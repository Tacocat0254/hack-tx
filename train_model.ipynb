{
 "cells": [
  {
   "cell_type": "code",
   "execution_count": null,
   "id": "cfcd888b",
   "metadata": {
    "vscode": {
     "languageId": "plaintext"
    }
   },
   "outputs": [],
   "source": [
    "import json\n",
    "from datasets import Dataset\n",
    "\n",
    "with open(\"all_climbs.json\", \"r\") as f:\n",
    "    climbs = json.load(f)\n",
    "\n",
    "data = []\n",
    "for climb in climbs:\n",
    "    grade = climb[\"grade\"]\n",
    "    angle = climb[\"angle\"]\n",
    "    holds = climb[\"holds\"][0] if isinstance(climb[\"holds\"], list) else climb[\"holds\"]\n",
    "\n",
    "    prompt = f\"Create a {grade.upper()} boulder problem at {angle} degrees.\"\n",
    "    completion = json.dumps(holds, indent=2)\n",
    "\n",
    "    data.append({\"prompt\": prompt, \"completion\": completion})\n",
    "\n",
    "# Save as a Hugging Face Dataset\n",
    "dataset = Dataset.from_list(data)\n",
    "dataset.save_to_disk(\"climb_dataset\")\n",
    "print(f\"✅ Saved dataset with {len(data)} samples.\")"
   ]
  },
  {
   "cell_type": "code",
   "execution_count": null,
   "id": "2a7cb0a1",
   "metadata": {
    "vscode": {
     "languageId": "plaintext"
    }
   },
   "outputs": [],
   "source": [
    "from huggingface_hub import login\n",
    "login()"
   ]
  },
  {
   "cell_type": "code",
   "execution_count": null,
   "id": "978d4c60",
   "metadata": {
    "vscode": {
     "languageId": "plaintext"
    }
   },
   "outputs": [],
   "source": [
    "# INSTALL DEPENDENCIES\n",
    "!pip install --upgrade pip\n",
    "!pip install transformers datasets accelerate bitsandbytes\n",
    "!pip install git+https://github.com/huggingface/trl.git\n",
    "\n",
    "# Restart the runtime after installing if Colab asks\n",
    "print(\"✅ All dependencies installed. Restart the runtime if prompted.\")\n",
    "\n",
    "# IMPORT LIBRARIES\n",
    "import os\n",
    "import torch\n",
    "from datasets import load_dataset\n",
    "from transformers import AutoTokenizer, AutoModelForCausalLM, TrainingArguments\n",
    "from trl import SFTTrainer\n",
    "\n",
    "# VERIFY GPU\n",
    "if torch.cuda.is_available():\n",
    "    print(f\"GPU is available: {torch.cuda.get_device_name(0)}\")\n",
    "else:\n",
    "    print(\"No GPU detected. Training will be very slow!\")\n",
    "\n",
    "# OPTIONAL: Check versions\n",
    "import transformers\n",
    "import bitsandbytes\n",
    "import trl\n",
    "\n",
    "print(f\"Transformers: {transformers.__version__}\")\n",
    "print(f\"BitsAndBytes: {bitsandbytes.__version__}\")\n",
    "print(f\"TRL: {trl.__version__}\")"
   ]
  },
  {
   "cell_type": "code",
   "execution_count": null,
   "id": "d4e5a1c5",
   "metadata": {
    "vscode": {
     "languageId": "plaintext"
    }
   },
   "outputs": [],
   "source": [
    "# UPLOAD YOUR JSONL DATASET\n",
    "print(\"🔹 Upload your 'all_climbs.jsonl' file\")\n",
    "uploaded = files.upload()  # Select the file from your computer\n",
    "\n",
    "INPUT_JSONL = list(uploaded.keys())[0]  # get uploaded filename\n",
    "print(f\"Uploaded file: {INPUT_JSONL}\")\n",
    "\n",
    "# CONFIG\n",
    "MODEL_NAME = \"google/gemma-2b-it\"  # Ensure you have access\n",
    "OUTPUT_DIR = \"./gemma-climb-stream\"\n",
    "MAX_LENGTH = 256\n",
    "EPOCHS = 2\n",
    "BATCH_SIZE = 1\n",
    "ACCUM_STEPS = 4\n",
    "LR = 2e-4\n",
    "FP16 = True\n",
    "OFFLOAD_DIR = \"offload\"\n",
    "\n",
    "# LOAD STREAMING DATASET\n",
    "dataset = load_dataset(\"json\", data_files=INPUT_JSONL, split=\"train\", streaming=True)\n",
    "print(f\"Streaming dataset loaded with {len(list(dataset))} samples (will stream during training)\")\n",
    "\n",
    "# LOAD TOKENIZER & MODEL\n",
    "tokenizer = AutoTokenizer.from_pretrained(MODEL_NAME)\n",
    "tokenizer.pad_token = tokenizer.eos_token\n",
    "\n",
    "model = AutoModelForCausalLM.from_pretrained(\n",
    "    MODEL_NAME,\n",
    "    device_map=\"auto\",\n",
    "    offload_folder=OFFLOAD_DIR,\n",
    "    quantization_config={\n",
    "        \"load_in_4bit\": True,\n",
    "        \"bnb_4bit_use_double_quant\": True,\n",
    "        \"bnb_4bit_quant_type\": \"nf4\",\n",
    "        \"bnb_4bit_compute_dtype\": \"float16\"\n",
    "    }\n",
    ")\n",
    "\n",
    "# TOKENIZATION FUNCTION (on-the-fly)\n",
    "def tokenize_fn(example):\n",
    "    return tokenizer(\n",
    "        example[\"text\"],\n",
    "        truncation=True,\n",
    "        padding=\"max_length\",\n",
    "        max_length=MAX_LENGTH\n",
    "    )\n",
    "\n",
    "# TRAINING ARGUMENTS\n",
    "training_args = TrainingArguments(\n",
    "    output_dir=OUTPUT_DIR,\n",
    "    per_device_train_batch_size=BATCH_SIZE,\n",
    "    gradient_accumulation_steps=ACCUM_STEPS,\n",
    "    learning_rate=LR,\n",
    "    num_train_epochs=EPOCHS,\n",
    "    fp16=FP16,\n",
    "    logging_steps=50,\n",
    "    save_strategy=\"epoch\",\n",
    "    save_total_limit=2,\n",
    ")\n",
    "\n",
    "# SFT TRAINER\n",
    "trainer = SFTTrainer(\n",
    "    model=model,\n",
    "    train_dataset=dataset.map(tokenize_fn, batched=True),\n",
    "    peft_config=None,\n",
    "    args=training_args\n",
    ")\n",
    "\n",
    "# TRAIN\n",
    "trainer.train()\n",
    "trainer.save_model(OUTPUT_DIR)\n",
    "tokenizer.save_pretrained(OUTPUT_DIR)\n",
    "print(f\"Fine-tuning complete! Model saved to {OUTPUT_DIR}\")\n"
   ]
  }
 ],
 "metadata": {
  "language_info": {
   "name": "python"
  }
 },
 "nbformat": 4,
 "nbformat_minor": 5
}
